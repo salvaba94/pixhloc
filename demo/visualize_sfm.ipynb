{
 "cells": [
  {
   "cell_type": "code",
   "execution_count": null,
   "metadata": {},
   "outputs": [],
   "source": [
    "import os\n",
    "from pathlib import Path\n",
    "\n",
    "import numpy as np\n",
    "import pycolmap"
   ]
  },
  {
   "cell_type": "code",
   "execution_count": null,
   "metadata": {},
   "outputs": [],
   "source": [
    "train_data = Path(\"../image-matching-challenge-2023/train\")\n",
    "\n",
    "output_data = Path(\"../outputs\")\n",
    "\n",
    "dataset = \"heritage\"\n",
    "\n",
    "scene = \"dioscuri\"\n",
    "\n",
    "model_name = \"DISK+LG+sift+NN-rot\""
   ]
  },
  {
   "cell_type": "code",
   "execution_count": null,
   "metadata": {},
   "outputs": [],
   "source": [
    "n_images = len(os.listdir(train_data / dataset / scene / \"images\"))\n",
    "\n",
    "print(f\"Number of images: {n_images}\")"
   ]
  },
  {
   "cell_type": "code",
   "execution_count": null,
   "metadata": {},
   "outputs": [],
   "source": [
    "gt_model = train_data / dataset / scene / \"sfm\" \n",
    "gt_model = pycolmap.Reconstruction(str(gt_model))\n",
    "\n",
    "print(gt_model.summary())"
   ]
  },
  {
   "cell_type": "code",
   "execution_count": null,
   "metadata": {},
   "outputs": [],
   "source": [
    "our_model = output_data / model_name / dataset / scene / \"sparse\"\n",
    "our_model = pycolmap.Reconstruction(str(our_model))\n",
    "\n",
    "print(our_model.summary())"
   ]
  },
  {
   "attachments": {},
   "cell_type": "markdown",
   "metadata": {},
   "source": [
    "# Align Models"
   ]
  },
  {
   "cell_type": "code",
   "execution_count": null,
   "metadata": {},
   "outputs": [],
   "source": [
    "def backward_project(\n",
    "    points_2d: np.ndarray, image: pycolmap.Image, camera: pycolmap.Camera, depth: np.ndarray\n",
    ") -> np.ndarray:\n",
    "    \"\"\"Project array of 2D points into the 3D world space given a depth map.\n",
    "\n",
    "    Args:\n",
    "        points2d (np.ndarray): Array of 2D points with shape (n, 2).\n",
    "        image (pycolmap.Image): Image from which the points are taken.\n",
    "        camera (pycolmap.Camera): Camera associated with the image.\n",
    "        depth (np.ndarray): Associated depth map with shape (n,).\n",
    "\n",
    "    Returns:\n",
    "        np.ndarray: Array of backward projected 3D points from the given 2D points.\n",
    "    \"\"\"\n",
    "    p_world = np.array(camera.image_to_world(points_2d))\n",
    "    p_world = np.stack([p_world[:, 0], p_world[:, 1], np.ones_like(p_world[:, 0])]) * depth\n",
    "    p_world = np.array(image.transform_to_world(p_world.T))\n",
    "\n",
    "    return p_world\n",
    "\n",
    "def get_camera_poses(reconstruction) -> np.ndarray:\n",
    "    \"\"\"Extracts camera positions from reconstruction.\n",
    "\n",
    "    Args:\n",
    "        reconstruction: pycolmap.Reconstruction(/path)\n",
    "\n",
    "    Returns:\n",
    "        np.ndarray: of shape (N, 3)\n",
    "    \"\"\"\n",
    "    cameras = reconstruction.cameras\n",
    "    images = reconstruction.images\n",
    "\n",
    "    N = len(images)\n",
    "    camera_poses = np.zeros((N, 3))\n",
    "    for i, k1 in enumerate(images.keys()):\n",
    "        image_1 = images[k1]\n",
    "        camera_1 = cameras[image_1.camera_id]\n",
    "        camera_poses[i] = backward_project(\n",
    "            points_2d=np.array([[0, 0]]),\n",
    "            image=image_1,\n",
    "            camera=camera_1,\n",
    "            depth=0,\n",
    "        )\n",
    "    return camera_poses"
   ]
  },
  {
   "cell_type": "code",
   "execution_count": null,
   "metadata": {},
   "outputs": [],
   "source": [
    "image_names = [img.name for img in gt_model.images.values()]\n",
    "locations = get_camera_poses(gt_model)\n",
    "\n",
    "_ = our_model.align_robust(image_names, locations, 6)"
   ]
  },
  {
   "attachments": {},
   "cell_type": "markdown",
   "metadata": {},
   "source": [
    "# Visualize the models"
   ]
  },
  {
   "cell_type": "code",
   "execution_count": null,
   "metadata": {},
   "outputs": [],
   "source": [
    "from hloc.utils.viz_3d import init_figure, plot_points, plot_reconstruction, plot_camera_colmap\n",
    "\n",
    "fig3d = init_figure()\n",
    "args = dict(max_reproj_error=2.0, min_track_length=2, cs=1, cameras=True)\n",
    "plot_reconstruction(fig3d, gt_model, color='rgba(255, 0, 0, 0.5)', name=\"gt\", **args)\n",
    "plot_reconstruction(fig3d, our_model, color='rgba(0, 255, 0, 0.5)', name=\"ours\", **args)\n",
    "fig3d.show()"
   ]
  },
  {
   "cell_type": "code",
   "execution_count": null,
   "metadata": {},
   "outputs": [],
   "source": []
  }
 ],
 "metadata": {
  "kernelspec": {
   "display_name": "megadepth",
   "language": "python",
   "name": "python3"
  },
  "language_info": {
   "codemirror_mode": {
    "name": "ipython",
    "version": 3
   },
   "file_extension": ".py",
   "mimetype": "text/x-python",
   "name": "python",
   "nbconvert_exporter": "python",
   "pygments_lexer": "ipython3",
   "version": "3.9.16"
  },
  "orig_nbformat": 4
 },
 "nbformat": 4,
 "nbformat_minor": 2
}
